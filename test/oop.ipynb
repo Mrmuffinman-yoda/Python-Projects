{
 "cells": [
  {
   "cell_type": "code",
   "execution_count": 75,
   "metadata": {},
   "outputs": [],
   "source": [
    "# lets make animals \n",
    "class Animal:\n",
    "    def __init__(self,name,colour,height,age,weight):\n",
    "        self.colour = colour\n",
    "        self.height = height\n",
    "        self.age = age\n",
    "        self.weight = weight\n",
    "        self.name = name\n",
    "    "
   ]
  },
  {
   "cell_type": "code",
   "execution_count": 76,
   "metadata": {},
   "outputs": [],
   "source": [
    "class Dog(Animal):\n",
    "    def __init__(self,name,colour,height,age,weight,breed):\n",
    "        super().__init__(name,colour,height,age,weight)\n",
    "        self.breed = breed\n",
    "\n",
    "    def __str__(self):\n",
    "        return f\"Dog information = {self.colour} , {self.height}cm , {self.age} years old ,{self.weight}kg , {self.breed}\"\n",
    "\n",
    "    def __del__(self):\n",
    "        print(f\"{self.name} has died\")\n"
   ]
  },
  {
   "cell_type": "code",
   "execution_count": 77,
   "metadata": {},
   "outputs": [],
   "source": [
    "class Gorilla(Animal):\n",
    "    def __init__(self,name, colour, height, age, weight, aggressive):\n",
    "        super().__init__(name, colour, height, age, weight)\n",
    "        self.aggressive = aggressive\n",
    "\n",
    "    def __str__(self):\n",
    "        return f\"Gorilla information = {self.colour} , {self.height}cm , {self.age} years old ,{self.weight}kg , {self.aggressive}\"\n"
   ]
  },
  {
   "cell_type": "code",
   "execution_count": 78,
   "metadata": {},
   "outputs": [
    {
     "name": "stdout",
     "output_type": "stream",
     "text": [
      "Dog information = Brown , 127cm , 7 years old ,54kg , Great Dane\n",
      "Scooby has died\n"
     ]
    }
   ],
   "source": [
    "scooby = Dog(\"Scooby\",\"Brown\" , 127 , 7 , 54 , \"Great Dane\" )\n",
    "kingkong = Gorilla(\"kingkong\",\"Black\" ,150 , 70 , 300 , True) \n",
    "print(scooby)\n",
    "del(scooby)"
   ]
  }
 ],
 "metadata": {
  "kernelspec": {
   "display_name": "Python 3.10.6 64-bit",
   "language": "python",
   "name": "python3"
  },
  "language_info": {
   "codemirror_mode": {
    "name": "ipython",
    "version": 3
   },
   "file_extension": ".py",
   "mimetype": "text/x-python",
   "name": "python",
   "nbconvert_exporter": "python",
   "pygments_lexer": "ipython3",
   "version": "3.10.6"
  },
  "orig_nbformat": 4,
  "vscode": {
   "interpreter": {
    "hash": "e276a94ab97a9efae7bdcfa9e1dc61b2f6097e65aabcec1a6ce84efca64eb96b"
   }
  }
 },
 "nbformat": 4,
 "nbformat_minor": 2
}
