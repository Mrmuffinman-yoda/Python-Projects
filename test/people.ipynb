{
 "cells": [
  {
   "cell_type": "code",
   "execution_count": 56,
   "metadata": {},
   "outputs": [],
   "source": [
    "class people:\n",
    "    def __init__(self,firstname,lastname,age):\n",
    "        self.firstname = firstname\n",
    "        self.lastname = lastname\n",
    "        self.age = age\n",
    "\n",
    "    @property\n",
    "    def fullname(self):\n",
    "        self.fullname = f\"{self.firstname} {self.lastname}\"\n",
    "        \n",
    "    @fullname.setter\n",
    "    def set_fullname(self,firstname,lastname):\n",
    "        self.firstname = f\"{firstname} {lastname}\"\n",
    "        return \n",
    "    @fullname.getter\n",
    "    def return_fullname(self):\n",
    "        return f\"{self.firstname} {self.lastname}\"\n"
   ]
  },
  {
   "cell_type": "code",
   "execution_count": 57,
   "metadata": {},
   "outputs": [
    {
     "ename": "AttributeError",
     "evalue": "can't set attribute 'fullname'",
     "output_type": "error",
     "traceback": [
      "\u001b[1;31m---------------------------------------------------------------------------\u001b[0m",
      "\u001b[1;31mAttributeError\u001b[0m                            Traceback (most recent call last)",
      "\u001b[1;32md:\\Users\\haris\\Documents\\Code\\Python Projects\\people.ipynb Cell 2\u001b[0m in \u001b[0;36m<cell line: 2>\u001b[1;34m()\u001b[0m\n\u001b[0;32m      <a href='vscode-notebook-cell:/d%3A/Users/haris/Documents/Code/Python%20Projects/people.ipynb#W1sZmlsZQ%3D%3D?line=0'>1</a>\u001b[0m bob \u001b[39m=\u001b[39m people(\u001b[39m\"\u001b[39m\u001b[39mbob\u001b[39m\u001b[39m\"\u001b[39m , \u001b[39m\"\u001b[39m\u001b[39mbuilder\u001b[39m\u001b[39m\"\u001b[39m , \u001b[39m\"\u001b[39m\u001b[39m6\u001b[39m\u001b[39m\"\u001b[39m)\n\u001b[1;32m----> <a href='vscode-notebook-cell:/d%3A/Users/haris/Documents/Code/Python%20Projects/people.ipynb#W1sZmlsZQ%3D%3D?line=1'>2</a>\u001b[0m bob\u001b[39m.\u001b[39;49mfullname()\n\u001b[0;32m      <a href='vscode-notebook-cell:/d%3A/Users/haris/Documents/Code/Python%20Projects/people.ipynb#W1sZmlsZQ%3D%3D?line=2'>3</a>\u001b[0m \u001b[39mprint\u001b[39m(bob\u001b[39m.\u001b[39mfullname)\n\u001b[0;32m      <a href='vscode-notebook-cell:/d%3A/Users/haris/Documents/Code/Python%20Projects/people.ipynb#W1sZmlsZQ%3D%3D?line=3'>4</a>\u001b[0m bob\u001b[39m.\u001b[39mset_fullname(\u001b[39m\"\u001b[39m\u001b[39mBrad\u001b[39m\u001b[39m\"\u001b[39m, \u001b[39m\"\u001b[39m\u001b[39mbuilder\u001b[39m\u001b[39m\"\u001b[39m)\n",
      "\u001b[1;32md:\\Users\\haris\\Documents\\Code\\Python Projects\\people.ipynb Cell 2\u001b[0m in \u001b[0;36mpeople.fullname\u001b[1;34m(self)\u001b[0m\n\u001b[0;32m      <a href='vscode-notebook-cell:/d%3A/Users/haris/Documents/Code/Python%20Projects/people.ipynb#W1sZmlsZQ%3D%3D?line=6'>7</a>\u001b[0m \u001b[39m@property\u001b[39m\n\u001b[0;32m      <a href='vscode-notebook-cell:/d%3A/Users/haris/Documents/Code/Python%20Projects/people.ipynb#W1sZmlsZQ%3D%3D?line=7'>8</a>\u001b[0m \u001b[39mdef\u001b[39;00m \u001b[39mfullname\u001b[39m(\u001b[39mself\u001b[39m):\n\u001b[1;32m----> <a href='vscode-notebook-cell:/d%3A/Users/haris/Documents/Code/Python%20Projects/people.ipynb#W1sZmlsZQ%3D%3D?line=8'>9</a>\u001b[0m     \u001b[39mself\u001b[39m\u001b[39m.\u001b[39mfullname \u001b[39m=\u001b[39m \u001b[39mf\u001b[39m\u001b[39m\"\u001b[39m\u001b[39m{\u001b[39;00m\u001b[39mself\u001b[39m\u001b[39m.\u001b[39mfirstname\u001b[39m}\u001b[39;00m\u001b[39m \u001b[39m\u001b[39m{\u001b[39;00m\u001b[39mself\u001b[39m\u001b[39m.\u001b[39mlastname\u001b[39m}\u001b[39;00m\u001b[39m\"\u001b[39m\n",
      "\u001b[1;31mAttributeError\u001b[0m: can't set attribute 'fullname'"
     ]
    }
   ],
   "source": [
    "bob = people(\"bob\" , \"builder\" , \"6\")\n",
    "bob.fullname()\n",
    "print(bob.fullname)\n",
    "bob.set_fullname(\"Brad\", \"builder\")\n",
    "print(bob.fullname())\n"
   ]
  }
 ],
 "metadata": {
  "kernelspec": {
   "display_name": "Python 3.10.6 64-bit",
   "language": "python",
   "name": "python3"
  },
  "language_info": {
   "codemirror_mode": {
    "name": "ipython",
    "version": 3
   },
   "file_extension": ".py",
   "mimetype": "text/x-python",
   "name": "python",
   "nbconvert_exporter": "python",
   "pygments_lexer": "ipython3",
   "version": "3.10.6"
  },
  "orig_nbformat": 4,
  "vscode": {
   "interpreter": {
    "hash": "e276a94ab97a9efae7bdcfa9e1dc61b2f6097e65aabcec1a6ce84efca64eb96b"
   }
  }
 },
 "nbformat": 4,
 "nbformat_minor": 2
}
