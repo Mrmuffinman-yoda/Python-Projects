{
 "cells": [
  {
   "cell_type": "code",
   "execution_count": 4,
   "metadata": {},
   "outputs": [
    {
     "data": {
      "text/plain": [
       "False"
      ]
     },
     "execution_count": 4,
     "metadata": {},
     "output_type": "execute_result"
    }
   ],
   "source": [
    "word = \"hello\"\n",
    "word2 = \"frame\"\n",
    "\n",
    "def dupFinder(word):\n",
    "\n",
    "    wordarray = [] \n",
    "    for i in word:\n",
    "        if i in wordarray:\n",
    "            return True\n",
    "        else:\n",
    "            wordarray.append(i)\n",
    "    return False\n",
    "\n",
    "dupFinder(word2)\n"
   ]
  },
  {
   "cell_type": "code",
   "execution_count": 11,
   "metadata": {},
   "outputs": [
    {
     "name": "stdout",
     "output_type": "stream",
     "text": [
      "{'e', 'h', 'l', 'o'}\n"
     ]
    }
   ],
   "source": [
    "word = \"hello\"\n",
    "setWord = set(word)\n",
    "print(setWord)"
   ]
  },
  {
   "cell_type": "code",
   "execution_count": 20,
   "metadata": {},
   "outputs": [
    {
     "name": "stdout",
     "output_type": "stream",
     "text": [
      "{'o', 'b'}\n"
     ]
    }
   ],
   "source": [
    "import string\n",
    "alphabet = set(string.ascii_lowercase)\n",
    "name = set(\"bob\")\n",
    "# print(alphabet - name)\n",
    "print(name)"
   ]
  },
  {
   "cell_type": "code",
   "execution_count": 29,
   "metadata": {},
   "outputs": [
    {
     "name": "stdout",
     "output_type": "stream",
     "text": [
      "['Hello', 'World']\n",
      "Hello\n"
     ]
    }
   ],
   "source": [
    "dict = {}\n",
    "array = []\n",
    "\n",
    "array.append(\"Hello\")\n",
    "array.append(\"World\")\n",
    "print(array)  # 0 ---> Hello 1 ----> World\n",
    "dict[\"firstword\"], dict[\"secondword\"] = \"Hello\", \"World\"\n",
    "print(dict[\"firstword\"])"
   ]
  }
 ],
 "metadata": {
  "kernelspec": {
   "display_name": "Python 3.10.6 64-bit",
   "language": "python",
   "name": "python3"
  },
  "language_info": {
   "codemirror_mode": {
    "name": "ipython",
    "version": 3
   },
   "file_extension": ".py",
   "mimetype": "text/x-python",
   "name": "python",
   "nbconvert_exporter": "python",
   "pygments_lexer": "ipython3",
   "version": "3.10.6"
  },
  "orig_nbformat": 4,
  "vscode": {
   "interpreter": {
    "hash": "e276a94ab97a9efae7bdcfa9e1dc61b2f6097e65aabcec1a6ce84efca64eb96b"
   }
  }
 },
 "nbformat": 4,
 "nbformat_minor": 2
}
