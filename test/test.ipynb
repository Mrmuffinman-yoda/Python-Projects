{
 "cells": [
  {
   "cell_type": "code",
   "execution_count": 41,
   "metadata": {},
   "outputs": [
    {
     "name": "stdout",
     "output_type": "stream",
     "text": [
      "{'e', 'H', 'o', 'l'}\n",
      "{'o', 'e', 'D', 'l', 'H'}\n"
     ]
    }
   ],
   "source": [
    "word = \"Hello\"\n",
    "wordSet = set(word)\n",
    "print(wordSet)\n",
    "wordSet.add(\"D\")\n",
    "print(wordSet)"
   ]
  },
  {
   "cell_type": "code",
   "execution_count": 42,
   "metadata": {},
   "outputs": [
    {
     "name": "stdout",
     "output_type": "stream",
     "text": [
      "No repeated characters detected\n"
     ]
    }
   ],
   "source": [
    "def repeated_characters(word):\n",
    "    wordset = list()\n",
    "    for i in word:\n",
    "        if i in wordset:\n",
    "            print(\"Warning Repeated characters detected\")\n",
    "            return\n",
    "        else:\n",
    "            wordset.append(i)\n",
    "    print(\"No repeated characters detected\")\n",
    "repeated_characters(\"helo\")\n"
   ]
  },
  {
   "cell_type": "code",
   "execution_count": 43,
   "metadata": {},
   "outputs": [
    {
     "name": "stdout",
     "output_type": "stream",
     "text": [
      "['a', 'c', 'b']\n"
     ]
    }
   ],
   "source": [
    "# convert list -> set -> list to remove duplicates\n",
    "\n",
    "wordlist = [\"a\",\"a\",\"b\",\"b\",\"c\",\"c\"]\n",
    "print(list(set(wordlist)))"
   ]
  },
  {
   "cell_type": "code",
   "execution_count": 44,
   "metadata": {},
   "outputs": [
    {
     "name": "stdout",
     "output_type": "stream",
     "text": [
      "{'B', 'T', 'R', 'o', 'W', 'S', 't', 'L', 'b', 'h', 'w', 'O', 'a', 'A', 's', 'X', 'r', 'g', 'E', 'Q', 'm', 'c', 'C', 'H', 'J', 'K', 'N', 'F', 'I', 'U', 'y', 'G', 'f', 'k', 'v', 'l', 'q', 'x', 'D', 'i', 'V', 'e', 'Z', 'd', 'u', 'j', 'P', 'n', 'p', 'M', 'z', 'Y'}\n"
     ]
    }
   ],
   "source": [
    "# Alphabet in python\n",
    "\n",
    "import string\n",
    "\n",
    "alphabet = set(string.ascii_letters)\n",
    "print(alphabet)"
   ]
  },
  {
   "cell_type": "code",
   "execution_count": 50,
   "metadata": {},
   "outputs": [
    {
     "name": "stdout",
     "output_type": "stream",
     "text": [
      "{'c', 'b'}\n"
     ]
    }
   ],
   "source": [
    "wordset = {\"a\", \"b\" , \"c\"}\n",
    "wordset.remove(\"a\")\n",
    "print(wordset)"
   ]
  },
  {
   "cell_type": "code",
   "execution_count": 53,
   "metadata": {},
   "outputs": [
    {
     "name": "stdout",
     "output_type": "stream",
     "text": [
      "{1, 4, 5, 8, 9}\n"
     ]
    }
   ],
   "source": [
    "total_values = {1,2,3,4,5,6,7,8,9,10}\n",
    "user_guesses = {3,6,7,2,3,10}\n",
    "print(total_values - user_guesses)"
   ]
  },
  {
   "cell_type": "code",
   "execution_count": 35,
   "metadata": {},
   "outputs": [
    {
     "name": "stdout",
     "output_type": "stream",
     "text": [
      "['X', 'X', 'X', 'X', 6, 7]\n"
     ]
    }
   ],
   "source": [
    "word = {i for i in range(50)}\n",
    "characters = {1,3,4,5,6,7}\n",
    "array = [numb if numb > 5 else \"X\" for numb in newSet]\n",
    "print(array)\n"
   ]
  },
  {
   "cell_type": "code",
   "execution_count": 38,
   "metadata": {},
   "outputs": [
    {
     "ename": "ModuleNotFoundError",
     "evalue": "No module named 'chatterbot'",
     "output_type": "error",
     "traceback": [
      "\u001b[1;31m---------------------------------------------------------------------------\u001b[0m",
      "\u001b[1;31mModuleNotFoundError\u001b[0m                       Traceback (most recent call last)",
      "\u001b[1;32md:\\Users\\haris\\Documents\\Code\\Python Projects\\test\\test.ipynb Cell 8\u001b[0m in \u001b[0;36m<cell line: 1>\u001b[1;34m()\u001b[0m\n\u001b[1;32m----> <a href='vscode-notebook-cell:/d%3A/Users/haris/Documents/Code/Python%20Projects/test/test.ipynb#X11sZmlsZQ%3D%3D?line=0'>1</a>\u001b[0m \u001b[39mimport\u001b[39;00m \u001b[39mchatterbot\u001b[39;00m\n",
      "\u001b[1;31mModuleNotFoundError\u001b[0m: No module named 'chatterbot'"
     ]
    }
   ],
   "source": [
    "import chatterbot"
   ]
  }
 ],
 "metadata": {
  "kernelspec": {
   "display_name": "Python 3.10.6 64-bit",
   "language": "python",
   "name": "python3"
  },
  "language_info": {
   "codemirror_mode": {
    "name": "ipython",
    "version": 3
   },
   "file_extension": ".py",
   "mimetype": "text/x-python",
   "name": "python",
   "nbconvert_exporter": "python",
   "pygments_lexer": "ipython3",
   "version": "3.10.6"
  },
  "orig_nbformat": 4,
  "vscode": {
   "interpreter": {
    "hash": "e276a94ab97a9efae7bdcfa9e1dc61b2f6097e65aabcec1a6ce84efca64eb96b"
   }
  }
 },
 "nbformat": 4,
 "nbformat_minor": 2
}
